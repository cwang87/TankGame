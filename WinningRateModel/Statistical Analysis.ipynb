{
 "cells": [
  {
   "cell_type": "code",
   "execution_count": 1,
   "metadata": {},
   "outputs": [],
   "source": [
    "import pandas as pd\n",
    "import numpy as np"
   ]
  },
  {
   "cell_type": "code",
   "execution_count": 2,
   "metadata": {},
   "outputs": [],
   "source": [
    "# load data\n",
    "def load_data(filename):\n",
    "    df = pd.read_csv(filename)\n",
    "    return df"
   ]
  },
  {
   "cell_type": "code",
   "execution_count": 3,
   "metadata": {},
   "outputs": [],
   "source": [
    "# convert timestamp\n",
    "def convert_timestamp(timestamp):\n",
    "    timestamp = str(timestamp)\n",
    "    hour = timestamp[8:10]\n",
    "    minute = timestamp[10:12]\n",
    "    second = timestamp[12:14]\n",
    "    milliseconds = timestamp[14:]\n",
    "    time = int(hour) * 36000000 + int(minute) * 600000 + int(second) * 10000 + int(milliseconds)\n",
    "    \n",
    "    return time"
   ]
  },
  {
   "cell_type": "code",
   "execution_count": 4,
   "metadata": {},
   "outputs": [],
   "source": [
    "# clean data and get cleaned dataframe\n",
    "def clean_data(df):\n",
    "    df['timeIndex'] = df['timestamp'].apply(convert_timestamp)\n",
    "    base = df['timeIndex'][0]\n",
    "    df['relativeTime'] = df['timeIndex'] - base\n",
    "    df['second'] = df['relativeTime'] // 10000\n",
    "    df_cleaned = df.groupby(['second']).mean()\n",
    "    del df_cleaned['timestamp']\n",
    "    del df_cleaned['timeIndex']\n",
    "    del df_cleaned['relativeTime']\n",
    "    \n",
    "    return df_cleaned"
   ]
  },
  {
   "cell_type": "code",
   "execution_count": 5,
   "metadata": {},
   "outputs": [],
   "source": [
    "# preprocess data\n",
    "def preprocess_data(filename):\n",
    "    df = load_data(filename)\n",
    "    df_cleaned = clean_data(df)\n",
    "    \n",
    "    return df_cleaned"
   ]
  },
  {
   "cell_type": "code",
   "execution_count": 6,
   "metadata": {},
   "outputs": [
    {
     "name": "stderr",
     "output_type": "stream",
     "text": [
      "/Users/cwang/anaconda3/lib/python3.6/site-packages/scipy/stats/stats.py:3003: RuntimeWarning: invalid value encountered in double_scalars\n",
      "  r = r_num / r_den\n"
     ]
    }
   ],
   "source": [
    "import scipy.stats\n",
    "\n",
    "actionList = []\n",
    "fireList = []\n",
    "for i in range(1, 17):\n",
    "    action = '/Users/cwang/USF/HCI_Final_ML/action/' + str(i) + '.csv'\n",
    "    opponent = '/Users/cwang/USF/HCI_Final_ML/opponent/' + str(i) + '.csv'\n",
    "    df_action = preprocess_data(action)\n",
    "    df_opponent = preprocess_data(opponent)\n",
    "    df_opponent.columns = ['opponent_up', 'opponent_down', 'opponent_left', 'opponent_right', 'opponent_fire']\n",
    "    df = pd.concat([df_action, df_opponent], axis=1, join_axes=[df_action.index])\n",
    "    up = scipy.stats.pearsonr(df['up'], df['opponent_up'])\n",
    "    df['action'] = df['up'] + df['down'] + df['left'] + df['right']\n",
    "    df['opponent_action'] = df['opponent_up'] + df['opponent_down'] + df['opponent_left'] + df['opponent_right']\n",
    "    actionCorr = scipy.stats.pearsonr(df['action'], df['opponent_action'])\n",
    "    actionList.append(actionCorr)\n",
    "    fireCorr = scipy.stats.pearsonr(df['fire'], df['opponent_fire'])\n",
    "    fireList.append(fireCorr)"
   ]
  },
  {
   "cell_type": "markdown",
   "metadata": {},
   "source": [
    "### Pearson Correlation"
   ]
  },
  {
   "cell_type": "code",
   "execution_count": 7,
   "metadata": {},
   "outputs": [],
   "source": [
    "df_actionCorr = pd.DataFrame(actionList)"
   ]
  },
  {
   "cell_type": "code",
   "execution_count": 8,
   "metadata": {},
   "outputs": [],
   "source": [
    "df_fireCorr = pd.DataFrame(fireList)"
   ]
  },
  {
   "cell_type": "code",
   "execution_count": 9,
   "metadata": {},
   "outputs": [
    {
     "data": {
      "text/html": [
       "<div>\n",
       "<style scoped>\n",
       "    .dataframe tbody tr th:only-of-type {\n",
       "        vertical-align: middle;\n",
       "    }\n",
       "\n",
       "    .dataframe tbody tr th {\n",
       "        vertical-align: top;\n",
       "    }\n",
       "\n",
       "    .dataframe thead th {\n",
       "        text-align: right;\n",
       "    }\n",
       "</style>\n",
       "<table border=\"1\" class=\"dataframe\">\n",
       "  <thead>\n",
       "    <tr style=\"text-align: right;\">\n",
       "      <th></th>\n",
       "      <th>0</th>\n",
       "      <th>1</th>\n",
       "    </tr>\n",
       "  </thead>\n",
       "  <tbody>\n",
       "    <tr>\n",
       "      <th>count</th>\n",
       "      <td>15.000000</td>\n",
       "      <td>1.600000e+01</td>\n",
       "    </tr>\n",
       "    <tr>\n",
       "      <th>mean</th>\n",
       "      <td>0.294740</td>\n",
       "      <td>1.738332e-01</td>\n",
       "    </tr>\n",
       "    <tr>\n",
       "      <th>std</th>\n",
       "      <td>0.183634</td>\n",
       "      <td>2.829752e-01</td>\n",
       "    </tr>\n",
       "    <tr>\n",
       "      <th>min</th>\n",
       "      <td>-0.043331</td>\n",
       "      <td>9.057886e-07</td>\n",
       "    </tr>\n",
       "    <tr>\n",
       "      <th>25%</th>\n",
       "      <td>0.153175</td>\n",
       "      <td>1.684259e-04</td>\n",
       "    </tr>\n",
       "    <tr>\n",
       "      <th>50%</th>\n",
       "      <td>0.291536</td>\n",
       "      <td>6.558116e-02</td>\n",
       "    </tr>\n",
       "    <tr>\n",
       "      <th>75%</th>\n",
       "      <td>0.437830</td>\n",
       "      <td>1.395034e-01</td>\n",
       "    </tr>\n",
       "    <tr>\n",
       "      <th>max</th>\n",
       "      <td>0.600387</td>\n",
       "      <td>1.000000e+00</td>\n",
       "    </tr>\n",
       "  </tbody>\n",
       "</table>\n",
       "</div>"
      ],
      "text/plain": [
       "               0             1\n",
       "count  15.000000  1.600000e+01\n",
       "mean    0.294740  1.738332e-01\n",
       "std     0.183634  2.829752e-01\n",
       "min    -0.043331  9.057886e-07\n",
       "25%     0.153175  1.684259e-04\n",
       "50%     0.291536  6.558116e-02\n",
       "75%     0.437830  1.395034e-01\n",
       "max     0.600387  1.000000e+00"
      ]
     },
     "execution_count": 9,
     "metadata": {},
     "output_type": "execute_result"
    }
   ],
   "source": [
    "df_fireCorr.describe()"
   ]
  },
  {
   "cell_type": "code",
   "execution_count": 10,
   "metadata": {},
   "outputs": [
    {
     "data": {
      "text/html": [
       "<div>\n",
       "<style scoped>\n",
       "    .dataframe tbody tr th:only-of-type {\n",
       "        vertical-align: middle;\n",
       "    }\n",
       "\n",
       "    .dataframe tbody tr th {\n",
       "        vertical-align: top;\n",
       "    }\n",
       "\n",
       "    .dataframe thead th {\n",
       "        text-align: right;\n",
       "    }\n",
       "</style>\n",
       "<table border=\"1\" class=\"dataframe\">\n",
       "  <thead>\n",
       "    <tr style=\"text-align: right;\">\n",
       "      <th></th>\n",
       "      <th>0</th>\n",
       "      <th>1</th>\n",
       "    </tr>\n",
       "  </thead>\n",
       "  <tbody>\n",
       "    <tr>\n",
       "      <th>0</th>\n",
       "      <td>0.859032</td>\n",
       "      <td>1.121692e-14</td>\n",
       "    </tr>\n",
       "    <tr>\n",
       "      <th>1</th>\n",
       "      <td>0.849749</td>\n",
       "      <td>9.768146e-20</td>\n",
       "    </tr>\n",
       "    <tr>\n",
       "      <th>2</th>\n",
       "      <td>0.154037</td>\n",
       "      <td>4.828393e-01</td>\n",
       "    </tr>\n",
       "    <tr>\n",
       "      <th>3</th>\n",
       "      <td>0.777512</td>\n",
       "      <td>6.020635e-27</td>\n",
       "    </tr>\n",
       "    <tr>\n",
       "      <th>4</th>\n",
       "      <td>0.973082</td>\n",
       "      <td>2.984539e-32</td>\n",
       "    </tr>\n",
       "    <tr>\n",
       "      <th>5</th>\n",
       "      <td>0.838541</td>\n",
       "      <td>1.361806e-27</td>\n",
       "    </tr>\n",
       "    <tr>\n",
       "      <th>6</th>\n",
       "      <td>0.506514</td>\n",
       "      <td>7.577940e-07</td>\n",
       "    </tr>\n",
       "    <tr>\n",
       "      <th>7</th>\n",
       "      <td>0.470783</td>\n",
       "      <td>9.447707e-09</td>\n",
       "    </tr>\n",
       "    <tr>\n",
       "      <th>8</th>\n",
       "      <td>0.353864</td>\n",
       "      <td>1.981656e-03</td>\n",
       "    </tr>\n",
       "    <tr>\n",
       "      <th>9</th>\n",
       "      <td>0.583546</td>\n",
       "      <td>1.331913e-14</td>\n",
       "    </tr>\n",
       "    <tr>\n",
       "      <th>10</th>\n",
       "      <td>0.650461</td>\n",
       "      <td>4.153651e-06</td>\n",
       "    </tr>\n",
       "    <tr>\n",
       "      <th>11</th>\n",
       "      <td>0.761110</td>\n",
       "      <td>1.471591e-15</td>\n",
       "    </tr>\n",
       "    <tr>\n",
       "      <th>12</th>\n",
       "      <td>0.927947</td>\n",
       "      <td>1.933833e-17</td>\n",
       "    </tr>\n",
       "    <tr>\n",
       "      <th>13</th>\n",
       "      <td>0.154037</td>\n",
       "      <td>4.828393e-01</td>\n",
       "    </tr>\n",
       "    <tr>\n",
       "      <th>14</th>\n",
       "      <td>0.459873</td>\n",
       "      <td>7.027900e-05</td>\n",
       "    </tr>\n",
       "    <tr>\n",
       "      <th>15</th>\n",
       "      <td>0.695112</td>\n",
       "      <td>3.034204e-22</td>\n",
       "    </tr>\n",
       "  </tbody>\n",
       "</table>\n",
       "</div>"
      ],
      "text/plain": [
       "           0             1\n",
       "0   0.859032  1.121692e-14\n",
       "1   0.849749  9.768146e-20\n",
       "2   0.154037  4.828393e-01\n",
       "3   0.777512  6.020635e-27\n",
       "4   0.973082  2.984539e-32\n",
       "5   0.838541  1.361806e-27\n",
       "6   0.506514  7.577940e-07\n",
       "7   0.470783  9.447707e-09\n",
       "8   0.353864  1.981656e-03\n",
       "9   0.583546  1.331913e-14\n",
       "10  0.650461  4.153651e-06\n",
       "11  0.761110  1.471591e-15\n",
       "12  0.927947  1.933833e-17\n",
       "13  0.154037  4.828393e-01\n",
       "14  0.459873  7.027900e-05\n",
       "15  0.695112  3.034204e-22"
      ]
     },
     "execution_count": 10,
     "metadata": {},
     "output_type": "execute_result"
    }
   ],
   "source": [
    "df_actionCorr"
   ]
  },
  {
   "cell_type": "code",
   "execution_count": null,
   "metadata": {},
   "outputs": [],
   "source": []
  },
  {
   "cell_type": "code",
   "execution_count": null,
   "metadata": {},
   "outputs": [],
   "source": []
  }
 ],
 "metadata": {
  "kernelspec": {
   "display_name": "Python 3",
   "language": "python",
   "name": "python3"
  },
  "language_info": {
   "codemirror_mode": {
    "name": "ipython",
    "version": 3
   },
   "file_extension": ".py",
   "mimetype": "text/x-python",
   "name": "python",
   "nbconvert_exporter": "python",
   "pygments_lexer": "ipython3",
   "version": "3.6.4"
  }
 },
 "nbformat": 4,
 "nbformat_minor": 2
}
