{
 "cells": [
  {
   "cell_type": "code",
   "execution_count": 1,
   "metadata": {},
   "outputs": [],
   "source": [
    "import pandas as pd\n",
    "import numpy as np"
   ]
  },
  {
   "cell_type": "code",
   "execution_count": 2,
   "metadata": {},
   "outputs": [],
   "source": [
    "# load data\n",
    "def load_data(filename):\n",
    "    df = pd.read_csv(filename)\n",
    "    return df"
   ]
  },
  {
   "cell_type": "code",
   "execution_count": 3,
   "metadata": {},
   "outputs": [],
   "source": [
    "# convert timestamp\n",
    "def convert_timestamp(timestamp):\n",
    "    timestamp = str(timestamp)\n",
    "    hour = timestamp[8:10]\n",
    "    minute = timestamp[10:12]\n",
    "    second = timestamp[12:14]\n",
    "    milliseconds = timestamp[14:]\n",
    "    time = int(hour) * 36000000 + int(minute) * 600000 + int(second) * 10000 + int(milliseconds)\n",
    "    \n",
    "    return time"
   ]
  },
  {
   "cell_type": "code",
   "execution_count": 4,
   "metadata": {},
   "outputs": [],
   "source": [
    "# clean data and get cleaned dataframe\n",
    "def clean_data(df):\n",
    "    df['timeIndex'] = df['timestamp'].apply(convert_timestamp)\n",
    "    base = df['timeIndex'][0]\n",
    "    df['relativeTime'] = df['timeIndex'] - base\n",
    "    df['second'] = df['relativeTime'] // 10000\n",
    "    df_cleaned = df.groupby(['second']).mean()\n",
    "    del df_cleaned['timestamp']\n",
    "    del df_cleaned['timeIndex']\n",
    "    del df_cleaned['relativeTime']\n",
    "    \n",
    "    return df_cleaned"
   ]
  },
  {
   "cell_type": "code",
   "execution_count": 5,
   "metadata": {},
   "outputs": [],
   "source": [
    "# preprocess data\n",
    "def preprocess_data(filename):\n",
    "    df = load_data(filename)\n",
    "    df_cleaned = clean_data(df)\n",
    "    \n",
    "    return df_cleaned"
   ]
  },
  {
   "cell_type": "code",
   "execution_count": 6,
   "metadata": {},
   "outputs": [],
   "source": [
    "# get dataframe for one round play sample\n",
    "def sample_df(action, emotion, opponent):\n",
    "    df_action = preprocess_data(action)\n",
    "    df_emotion = preprocess_data(emotion)\n",
    "    df_opponent = preprocess_data(opponent)\n",
    "    df_opponent.columns = ['opponent_up', 'opponent_down', 'opponent_left', 'opponent_right', 'opponent_fire']\n",
    "    \n",
    "    size = min(df_action.shape[0], df_emotion.shape[0])\n",
    "    size = min(size, df_opponent.shape[0])\n",
    "    \n",
    "    # pad dataset\n",
    "    if size <= 100:\n",
    "        df_action = df_action[df_action.shape[0] - size:]\n",
    "        df_emotion = df_emotion[df_emotion.shape[0] - size:]\n",
    "        df_opponent = df_opponent[df_opponent.shape[0] - size:]\n",
    "    else:\n",
    "        df_action = df_action[df_action.shape[0] - 100:]\n",
    "        df_emotion = df_emotion[df_emotion.shape[0] - 100:]\n",
    "        df_opponent = df_opponent[df_opponent.shape[0] - 100:]\n",
    "    \n",
    "    df_emotion.index = df_action.index\n",
    "    \n",
    "    df = pd.concat([df_action, df_emotion], axis=1, join_axes=[df_action.index])\n",
    "    df = pd.concat([df, df_opponent], axis=1, join_axes=[df.index])\n",
    "    \n",
    "    return df"
   ]
  },
  {
   "cell_type": "code",
   "execution_count": 7,
   "metadata": {},
   "outputs": [],
   "source": [
    "# get sample data to be filled in X_train\n",
    "def fill_Xtrain(action, emotion, opponent, X_train, index):\n",
    "    df = sample_df(action, emotion, opponent)\n",
    "    train = df[['up', 'down', 'left', 'right', 'fire', 'joy', 'anger', 'suprise', \n",
    "                'opponent_up', 'opponent_down', 'opponent_left', 'opponent_right', 'opponent_fire']].values\n",
    "#     print(train.shape[0])\n",
    "    X_train[index, 100-train.shape[0]: , : ] = train"
   ]
  },
  {
   "cell_type": "markdown",
   "metadata": {},
   "source": [
    "### Get train data"
   ]
  },
  {
   "cell_type": "code",
   "execution_count": 31,
   "metadata": {},
   "outputs": [],
   "source": [
    "# get X_train\n",
    "X_train = np.zeros((20, 100, 13))\n",
    "\n",
    "for i in range(1, 21):\n",
    "    action = '/Users/cwang/USF/TankGame/action/' + str(i) + '.csv'\n",
    "    emotion = '/Users/cwang/USF/TankGame/emotion/' + str(i) + '.csv'\n",
    "    opponent = '/Users/cwang/USF/TankGame/opponent/' + str(i) + '.csv'\n",
    "    fill_Xtrain(action, emotion, opponent, X_train, i-1)"
   ]
  },
  {
   "cell_type": "code",
   "execution_count": 32,
   "metadata": {},
   "outputs": [],
   "source": [
    "# get Y_train\n",
    "Y_train = pd.read_csv('/Users/cwang/USF/TankGame/label.csv', header=None)\n",
    "Y_train = Y_train[0]\n",
    "\n",
    "from sklearn.preprocessing import LabelEncoder\n",
    "\n",
    "lb_make = LabelEncoder()\n",
    "Y_train = lb_make.fit_transform(Y_train)"
   ]
  },
  {
   "cell_type": "markdown",
   "metadata": {},
   "source": [
    "### Get Model"
   ]
  },
  {
   "cell_type": "code",
   "execution_count": 33,
   "metadata": {},
   "outputs": [],
   "source": [
    "from keras.layers import Dense, Dropout, LSTM, Embedding\n",
    "from keras.preprocessing.sequence import pad_sequences\n",
    "from keras.models import Sequential"
   ]
  },
  {
   "cell_type": "code",
   "execution_count": 34,
   "metadata": {},
   "outputs": [],
   "source": [
    "data_dim = 13\n",
    "timesteps = 100\n",
    "#num_classes = 2\n",
    "\n",
    "# expected input data shape: (batch_size, timesteps, data_dim)\n",
    "model = Sequential()\n",
    "model.add(LSTM(32, return_sequences=False,\n",
    "               input_shape=(timesteps, data_dim)))  # returns a sequence of vectors of dimension 32\n",
    "model.add(Dense(1, activation='softmax'))\n",
    "\n",
    "model.compile(loss='binary_crossentropy',\n",
    "              optimizer='rmsprop',\n",
    "              metrics=['accuracy'])"
   ]
  },
  {
   "cell_type": "code",
   "execution_count": 35,
   "metadata": {},
   "outputs": [
    {
     "name": "stdout",
     "output_type": "stream",
     "text": [
      "Epoch 1/1\n",
      "20/20 [==============================] - 3s 131ms/step - loss: 5.5798 - acc: 0.6500\n"
     ]
    },
    {
     "data": {
      "text/plain": [
       "<keras.callbacks.History at 0x1a1d72aa20>"
      ]
     },
     "execution_count": 35,
     "metadata": {},
     "output_type": "execute_result"
    }
   ],
   "source": [
    "model.fit(X_train, Y_train,\n",
    "          batch_size=2, epochs=1)"
   ]
  },
  {
   "cell_type": "markdown",
   "metadata": {},
   "source": [
    "### Prediction Example"
   ]
  },
  {
   "cell_type": "code",
   "execution_count": 37,
   "metadata": {},
   "outputs": [],
   "source": [
    "X_test = np.zeros((1, 100, 13))\n",
    "\n",
    "for i in range(1, 2):\n",
    "    action = '/Users/cwang/USF/TankGame/action/' + str(i) + '.csv'\n",
    "    emotion = '/Users/cwang/USF/TankGame/emotion/' + str(i) + '.csv'\n",
    "    opponent = '/Users/cwang/USF/TankGame/opponent/' + str(i) + '.csv'\n",
    "    fill_Xtrain(action, emotion, opponent, X_test, i-1)"
   ]
  },
  {
   "cell_type": "code",
   "execution_count": 38,
   "metadata": {},
   "outputs": [
    {
     "data": {
      "text/plain": [
       "(1, 100, 13)"
      ]
     },
     "execution_count": 38,
     "metadata": {},
     "output_type": "execute_result"
    }
   ],
   "source": [
    "X_test[0:1,:,:].shape"
   ]
  },
  {
   "cell_type": "code",
   "execution_count": 39,
   "metadata": {},
   "outputs": [
    {
     "data": {
      "text/plain": [
       "array([[1.]], dtype=float32)"
      ]
     },
     "execution_count": 39,
     "metadata": {},
     "output_type": "execute_result"
    }
   ],
   "source": [
    "model.predict(X_test[0:1,:,:])"
   ]
  }
 ],
 "metadata": {
  "kernelspec": {
   "display_name": "Python 3",
   "language": "python",
   "name": "python3"
  },
  "language_info": {
   "codemirror_mode": {
    "name": "ipython",
    "version": 3
   },
   "file_extension": ".py",
   "mimetype": "text/x-python",
   "name": "python",
   "nbconvert_exporter": "python",
   "pygments_lexer": "ipython3",
   "version": "3.6.4"
  }
 },
 "nbformat": 4,
 "nbformat_minor": 2
}
